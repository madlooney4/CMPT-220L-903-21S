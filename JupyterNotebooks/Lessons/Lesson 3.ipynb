{
 "cells": [
  {
   "cell_type": "markdown",
   "metadata": {},
   "source": [
    "# Software Development 1\n",
    "---\n",
    "Topics for today will include:\n",
    "- Command Line/Terminal/Powershell\n",
    "    - Navigating Around\n",
    "    - Hidden Files\n",
    "- GitHub\n",
    "    - Why Are We Using This?\n",
    "    - Is It Important? \n",
    "    - Termonology \n",
    "- Conditionals\n",
    "    - If\n",
    "    - Else\n",
    "    - Else If\n",
    "    - Chaining Conditionals\n",
    "        - Truth Tables\n",
    "        - And\n",
    "        - Or\n",
    "- Intellij"
   ]
  },
  {
   "cell_type": "markdown",
   "metadata": {},
   "source": [
    "# Terminal/Powershell (Bash(Bourne Again Shell))\n",
    "---\n",
    "So we've visited this a few times at this point but there's no more avoiding it. Bash is the default for a lot of terminals. These commands should work on both systems. The only one that's different is to create a file. So we need to be comfortable navigating our file systems. This becomes relevant as we start to develop more pure scripts we have to move away from our GUIs.\n",
    "\n",
    "## Navigating Around (Key Commands)\n",
    "---\n",
    "These commands are the some of the basic ones used to navigate around. This is a little more complex on Windows depending on whether or not you decide to used WSL (Windows Subsystem for Linux). That being said I'm assuming that you're using powershell if you're on Windows. Before we get into that we're going to talk paths. Below we have a couple paths and what you need to understand is that `/` and `\\` denotes that you're going down a level in the folder or that you're going inside of that folder.\n",
    "\n",
    "### Mac\n",
    "```\n",
    "/Users/kippins/Code/CMPT-220L-903-21S\n",
    "```\n",
    "Top Level Folder: Users, then the arrows mean were going into the folder. Similar to as if you double clicked on it. \n",
    "Users -> kippins -> Code -> CMPT-220L-903-21S\n",
    "<br>\n",
    "<br>\n",
    "<br>\n",
    "\n",
    "### Windows\n",
    "```\n",
    "C:\\Users\\Kippins\\Desktop\n",
    "```\n",
    "Top Level Folder: Users, then the arrows mean were going into the folder. Similar to as if you double clicked on it. \n",
    "Users -> Kippins -> Desktop\n",
    "<br>\n",
    "<br>\n",
    "<br>\n",
    "\n",
    "**List Files and Folders (ls)**\n",
    "\n",
    "This command allows us to see the files in the folder we're currently in.\n",
    "```\n",
    "(base) kippins@Kippins-MacBook-Pro ➜ ~/Code/CMPT-220L-903-21S git:(master) ✗ ls\n",
    "Assignments      Git.md           JupyterNotebooks LICENSE          QuickDemos       README.md        SemesterProject\n",
    "(base) kippins@Kippins-MacBook-Pro ➜ ~/Code/CMPT-220L-903-21S git:(master) ✗ \n",
    "```\n",
    "\n",
    "**Present Working Directory (pwd)**\n",
    "\n",
    "This command is used to see your current location in the terminal. \n",
    "```\n",
    "(base) kippins@Kippins-MacBook-Pro ➜ ~/Code/CMPT-220L-903-21S git:(master) ✗ pwd\n",
    "/Users/kippins/Code/CMPT-220L-903-21S\n",
    "(base) kippins@Kippins-MacBook-Pro ➜ ~/Code/CMPT-220L-903-21S git:(master) ✗ \n",
    "```\n",
    "\n",
    "**Change Directories (cd)**\n",
    "\n",
    "This is used to move from folder to folder.\n",
    "```\n",
    "(base) kippins@Kippins-MacBook-Pro ➜ ~/Code/CMPT-220L-903-21S git:(master) ✗ ls\n",
    "Assignments      Git.md           JupyterNotebooks LICENSE          QuickDemos       README.md        SemesterProject\n",
    "(base) kippins@Kippins-MacBook-Pro ➜ ~/Code/CMPT-220L-903-21S git:(master) ✗ cd Assignments                     \n",
    "(base) kippins@Kippins-MacBook-Pro ➜ ~/Code/CMPT-220L-903-21S/Assignments git:(master) ✗ ls\n",
    "Assgnment 3          Assgnment 3 Solution Assignment 4         Assignment 5         Assignment 6\n",
    "(base) kippins@Kippins-MacBook-Pro ➜ ~/Code/CMPT-220L-903-21S/Assignments git:(master) ✗\n",
    "(base) kippins@Kippins-MacBook-Pro ➜ ~/Code/CMPT-220L-903-21S/Assignments git:(master) ✗ cd ..         \n",
    "(base) kippins@Kippins-MacBook-Pro ➜ ~/Code/CMPT-220L-903-21S git:(master) ✗ \n",
    "```\n",
    "\n",
    "**Create a File (touch (Mac)) or (ni (Windows))**\n",
    "\n",
    "This is used to create a file. \n",
    "```\n",
    "(base) kippins@Kippins-MacBook-Pro ➜ ~/Code/CMPT-220L-903-21S git:(master) ✗ ls\n",
    "Assignments      Git.md           JupyterNotebooks LICENSE          QuickDemos       README.md        SemesterProject\n",
    "(base) kippins@Kippins-MacBook-Pro ➜ ~/Code/CMPT-220L-903-21S git:(master) ✗ touch demo_file\n",
    "(base) kippins@Kippins-MacBook-Pro ➜ ~/Code/CMPT-220L-903-21S git:(master) ✗ ls\n",
    "Assignments      Git.md           JupyterNotebooks LICENSE          QuickDemos       README.md        SemesterProject  demo_file\n",
    "(base) kippins@Kippins-MacBook-Pro ➜ ~/Code/CMPT-220L-903-21S git:(master) ✗ \n",
    "```\n",
    "\n",
    "**Make Directory (mkdir)**\n",
    "\n",
    "This is used to create a directory.\n",
    "```\n",
    "(base) kippins@Kippins-MacBook-Pro ➜ ~/Code/CMPT-220L-903-21S git:(master) ✗ mkdir demo_dir\n",
    "(base) kippins@Kippins-MacBook-Pro ➜ ~/Code/CMPT-220L-903-21S git:(master) ✗ ls\n",
    "Assignments      Git.md           JupyterNotebooks LICENSE          QuickDemos       README.md        SemesterProject  demo_dir\n",
    "```\n",
    "\n",
    "**Remove a File or Folder (rm)**\n",
    "\n",
    "This is how we remove a file\n",
    "```\n",
    "(base) kippins@Kippins-MacBook-Pro ➜ ~/Code/CMPT-220L-903-21S git:(master) ✗ ls\n",
    "Assignments      Git.md           JupyterNotebooks LICENSE          QuickDemos       README.md        SemesterProject  demo_file\n",
    "(base) kippins@Kippins-MacBook-Pro ➜ ~/Code/CMPT-220L-903-21S git:(master) ✗ rm demo_file \n",
    "(base) kippins@Kippins-MacBook-Pro ➜ ~/Code/CMPT-220L-903-21S git:(master) ✗ ls\n",
    "Assignments      Git.md           JupyterNotebooks LICENSE          QuickDemos       README.md        SemesterProject\n",
    "(base) kippins@Kippins-MacBook-Pro ➜ ~/Code/CMPT-220L-903-21S git:(master) ✗ \n",
    "```\n",
    "\n",
    "This is how we remove a folder\n",
    "\n",
    "**Note: For a folder we need to add flags before the name of the folder we want to get rid of. -r is a flag that means recursive and -f is a flag that means force. Please be careful with this command. Be VERY sure of what you're deleting.*\n",
    "```\n",
    "(base) kippins@Kippins-MacBook-Pro ➜ ~/Code/CMPT-220L-903-21S git:(master) ✗ mkdir demo_dir\n",
    "(base) kippins@Kippins-MacBook-Pro ➜ ~/Code/CMPT-220L-903-21S git:(master) ✗ ls\n",
    "Assignments      Git.md           JupyterNotebooks LICENSE          QuickDemos       README.md        SemesterProject  demo_dir\n",
    "(base) kippins@Kippins-MacBook-Pro ➜ ~/Code/CMPT-220L-903-21S git:(master) ✗ rm demo_dir \n",
    "rm: demo_dir: is a directory\n",
    "(base) kippins@Kippins-MacBook-Pro ➜ ~/Code/CMPT-220L-903-21S git:(master) ✗ rm -rf demo_dir\n",
    "(base) kippins@Kippins-MacBook-Pro ➜ ~/Code/CMPT-220L-903-21S git:(master) ✗ \n",
    "```\n",
    "\n",
    "<!-- **Run a Python File (python3)**\n",
    "```\n",
    "(base) kippins@Kippins-MacBook-Pro ➜ ~/Code/CMPT-220L-903-21S/QuickDemos git:(master) ✗ ls\n",
    "Assignment 4.py HelloWorld.java HelloWorld.py   Lesson 3 Web    example.py\n",
    "(base) kippins@Kippins-MacBook-Pro ➜ ~/Code/CMPT-220L-903-21S/QuickDemos git:(master) ✗ python3 HelloWorld.py          \n",
    "Hello World\n",
    "Hello Aaron!\n",
    "(base) kippins@Kippins-MacBook-Pro ➜ ~/Code/CMPT-220L-903-21S/QuickDemos git:(master) ✗ \n",
    "``` -->\n",
    "\n",
    "All of these commands are going to be integral moving forward. \n",
    "\n",
    "## Hidden Files\n",
    "Now you may or may not know this but systems often have hidden files. This is typically done to protect the user from themselves making it so that they don't accidentaly delete something needed to run the operating system or programs on your operating system. \n",
    "\n",
    "Some of you have been running into an issue where the Jupyter Lab kernel wasn't properly installed and we're looking to hopefully remedy that. Now as we just mentioned often there are hidden file for important things and the file that we need to edit falls into that category. So what we're going to do first is use one of the following guides to reveal these files. \n",
    "\n",
    "On Windows:\n",
    "[Reveal Hidden Files Windows](https://support.microsoft.com/en-us/windows/view-hidden-files-and-folders-in-windows-10-97fbc472-c603-9d90-91d0-1166d1d9f4b5)\n",
    "\n",
    "On Mac:\n",
    "[Reveal Hidden Files Mac](https://www.ionos.com/digitalguide/server/configuration/showing-hidden-files-on-a-mac/)\n",
    "[Reveal Hidden Library Folder Mac](https://www.lifewire.com/os-x-is-hiding-your-library-folder-2260833)\n",
    "\n",
    "After doing this you're going to open your terminal and run the following command. (This is only going to work if you've successfully installed everything from assignment 1)\n",
    "\n",
    "`jupyter kernelspec list`\n",
    "\n",
    "The output should look something similar to the following:\n",
    "```\n",
    "kippins@Kippins-MacBook-Pro ➜ ~ jupyter kernelspec list\n",
    "Available kernels:\n",
    "  python3    /Users/kippins/.local/lib/python3.8/site-packages/ipykernel/resources\n",
    "  java       /usr/local/share/jupyter/kernels/java\n",
    "kippins@Kippins-MacBook-Pro ➜ ~\n",
    "```\n",
    "\n",
    "You're going to need the file path next to Java. We're going to look at and possible alter something in this directory depending on the `kernel.json` file at the location. Some people have `@KERNEL_INSTALL_DIRECTORY@` instead of the proper kernel path and we need to fix that. \n",
    "\n",
    "To check this this use the following commands. The path that we `cd` to is what we got from the `jupyter kernelspec list` above next to `java`:\n",
    "```\n",
    "kippins@Kippins-MacBook-Pro ➜ ~ cd /usr/local/share/jupyter/kernels/java\n",
    "kippins@Kippins-MacBook-Pro ➜ /usr/local/share/jupyter/kernels/java cat kernel.json\n",
    "{\n",
    "  \"argv\": [\n",
    "    \"java\",\n",
    "    \"-jar\",\n",
    "    \"@KERNEL_INSTALL_DIRECTORY@/ijava-1.3.0.jar\",\n",
    "    \"{connection_file}\"\n",
    "  ],\n",
    "  \"display_name\": \"Java\",\n",
    "  \"language\": \"java\",\n",
    "  \"interrupt_mode\": \"message\",\n",
    "  \"env\": {}\n",
    "}%\n",
    "kippins@Kippins-MacBook-Pro ➜ /usr/local/share/jupyter/kernels/java\n",
    "```\n",
    "if that shows `@KERNEL_INSTALL_DIRECTORY@`. Then after revealing hidden files you need to open that directory in a text editor and replace the `@KERNEL_INSTALL_DIRECTORY@` with the path copied from from the `jupyter kernelspec list` above next to `java` for me that was `/usr/local/share/jupyter/kernels/java` we need to keep the `/ijava-1.3.0.jar` in the file SO DON'T DELETE THAT!!! Once your file looks similar to what's below save the file and try and run something with Java in a Jupyter Notebook. \n",
    "```\n",
    "{\n",
    "  \"argv\": [\n",
    "    \"java\",\n",
    "    \"-jar\",\n",
    "    \"/usr/local/share/jupyter/kernels/java/ijava-1.3.0.jar\",\n",
    "    \"{connection_file}\"\n",
    "  ],\n",
    "  \"display_name\": \"Java\",\n",
    "  \"language\": \"java\",\n",
    "  \"interrupt_mode\": \"message\",\n",
    "  \"env\": {}\n",
    "}%\n",
    "```"
   ]
  },
  {
   "cell_type": "markdown",
   "metadata": {},
   "source": [
    "# GitHub\n",
    "## Why Are We Using It\n",
    "GitHub has become the industry standard when it comes to code storage and code management. Since it is the standard it is important that we're familiar with how to use and what it's uses. Most software companies or companies that write software will manage their code infastracture with Github. \n",
    "\n",
    "### Version Control\n",
    "Version Control is a way for you to record the changes you make to a file or a set of files.\n",
    "\n",
    "With this we can...\n",
    "- Compare changes over time.\n",
    "- See who last modified something that could be causing issues.\n",
    "- Revert files back to a previous state\n",
    "- Revert the entire project back to a previous state.\n",
    "\n",
    "## Is It Important?\n",
    "While technically you can get a job and write and run code without GitHub completely when it comes time to look at opportunities for interships and eventually jobs, building out large and complex project \n",
    "\n",
    "## Termonology\n",
    "[This link will serve as glossary!](https://docs.github.com/en/github/getting-started-with-github/github-glossary) Whenever you have something that you're lost on terms wise it can be found here. "
   ]
  },
  {
   "cell_type": "markdown",
   "metadata": {},
   "source": [
    "# Conditionals\n",
    "## If"
   ]
  },
  {
   "cell_type": "code",
   "execution_count": 2,
   "metadata": {},
   "outputs": [
    {
     "name": "stdout",
     "output_type": "stream",
     "text": [
      "Plsss\n"
     ]
    }
   ],
   "source": [
    "if (true) {\n",
    "\n",
    "    System.out.println(\"Plsss\");\n",
    "}"
   ]
  },
  {
   "cell_type": "markdown",
   "metadata": {},
   "source": [
    "## Else"
   ]
  },
  {
   "cell_type": "code",
   "execution_count": 3,
   "metadata": {},
   "outputs": [
    {
     "name": "stdout",
     "output_type": "stream",
     "text": [
      "I'll bake you cookies\n"
     ]
    }
   ],
   "source": [
    "if (!true) {\n",
    "\n",
    "    System.out.println(\"Plsss\");\n",
    "} else {\n",
    "    System.out.println(\"I'll bake you cookies\");\n",
    "    \n",
    "}"
   ]
  },
  {
   "cell_type": "markdown",
   "metadata": {},
   "source": [
    "## Else If"
   ]
  },
  {
   "cell_type": "code",
   "execution_count": 4,
   "metadata": {},
   "outputs": [
    {
     "name": "stdout",
     "output_type": "stream",
     "text": [
      "I want a burger\n"
     ]
    }
   ],
   "source": [
    "if (!true) {\n",
    "\n",
    "    System.out.println(\"Plsss\");\n",
    "} else if (true){\n",
    "    System.out.println(\"I want a burger\");\n",
    "    \n",
    "} else {\n",
    "    System.out.println(\"I'll bake you cookies\");\n",
    "    \n",
    "}"
   ]
  },
  {
   "cell_type": "markdown",
   "metadata": {},
   "source": [
    "## Chaining Conditionals \n",
    "### Truth Tables\n",
    "---\n",
    "So with the ability to negate and add on to our initial clauses we need to talk truth tables. This is a concept that implores the use of basic logic to figure out what the outcome of something would be. \n",
    "\n",
    "### Or Table\n",
    "\n",
    "| OR     | True   | False   |\n",
    "| -----  | ------ | ------- |\n",
    "| True   | True   | True    |\n",
    "| False  | True   | False   |\n",
    "\n",
    "### And Table\n",
    "\n",
    "| AND    | True   | False   |\n",
    "| -----  | ------ | ------- |\n",
    "| True   | True   | False   |\n",
    "| False  | False  | False   |\n",
    "\n",
    "<br>\n",
    "<br>\n",
    "<br>\n",
    "\n",
    "### Or\n"
   ]
  },
  {
   "cell_type": "code",
   "execution_count": 9,
   "metadata": {},
   "outputs": [],
   "source": [
    "boolean apples = true;\n",
    "boolean cherries = false;\n",
    "\n",
    "if (!apples || cherries) {\n",
    "    System.out.println(\"I can make a pie\");\n",
    "}"
   ]
  },
  {
   "cell_type": "markdown",
   "metadata": {},
   "source": [
    "### And"
   ]
  },
  {
   "cell_type": "code",
   "execution_count": 10,
   "metadata": {},
   "outputs": [
    {
     "name": "stdout",
     "output_type": "stream",
     "text": [
      "I can make a PB&J sandwich\n"
     ]
    }
   ],
   "source": [
    "boolean pb = true;\n",
    "boolean jelly = false;\n",
    "\n",
    "if (pb && !jelly) {\n",
    "    System.out.println(\"I can make a PB&J sandwich\");\n",
    "}"
   ]
  },
  {
   "cell_type": "markdown",
   "metadata": {},
   "source": [
    "# Intellij\n",
    "I'm going to show you how to make a project in Intellij!\n",
    "\n",
    "When you open Intellij you should get a screen with a new project option. From there your going to want to hit next on the first screen, then use the command line template on the second page. From here you'll want to put your project into an empty folder when they ask for project location. The base package you can name base and the project name will take the name of the folder that you choose.\n",
    "\n"
   ]
  },
  {
   "cell_type": "code",
   "execution_count": null,
   "metadata": {},
   "outputs": [],
   "source": []
  }
 ],
 "metadata": {
  "kernelspec": {
   "display_name": "Java",
   "language": "java",
   "name": "java"
  },
  "language_info": {
   "codemirror_mode": "java",
   "file_extension": ".jshell",
   "mimetype": "text/x-java-source",
   "name": "Java",
   "pygments_lexer": "java",
   "version": "15+36"
  },
  "orig_nbformat": 2
 },
 "nbformat": 4,
 "nbformat_minor": 2
}