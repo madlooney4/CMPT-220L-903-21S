{
 "cells": [
  {
   "cell_type": "markdown",
   "metadata": {},
   "source": [
    "# Lab Three\n",
    "---\n",
    "\n",
    "For this lab we're going to be making and using a bunch of functions. \n",
    "\n",
    "Our Goals are:\n",
    "- Switch Case\n",
    "- Looping\n",
    "- Making our own functions\n",
    "- Combining functions\n",
    "- Structuring solutions"
   ]
  },
  {
   "cell_type": "code",
   "execution_count": 1,
   "metadata": {},
   "outputs": [
    {
     "name": "stdout",
     "output_type": "stream",
     "text": [
      "Scooby is so cute and such a good companion!\n",
      "Shaggy is so funny and loves eating!\n",
      "Fred is so smart and likes to set traps!\n",
      "You don't like the mystery gang?\n"
     ]
    }
   ],
   "source": [
    "// Give me an example of you using switch case.\n",
    "\n",
    "String starter = \"Scooby Dooby Doo\";\n",
    "switch(starter){\n",
    "    case \"Scooby Dooby Doo\":\n",
    "        System.out.println(\"Scooby is so cute and such a good companion!\");\n",
    "    case \"Shaggy\":\n",
    "        System.out.println(\"Shaggy is so funny and loves eating!\");    \n",
    "    case \"Fred\":\n",
    "        System.out.println(\"Fred is so smart and likes to set traps!\");\n",
    "    default:\n",
    "        System.out.println(\"You don't like the mystery gang?\");\n",
    "}"
   ]
  },
  {
   "cell_type": "code",
   "execution_count": 3,
   "metadata": {},
   "outputs": [
    {
     "name": "stdout",
     "output_type": "stream",
     "text": [
      "I love Marist\n",
      "I love Marist\n",
      "I love Marist\n",
      "I love Marist\n",
      "I love Marist\n",
      "I love Marist\n",
      "I love Marist\n",
      "I love Marist\n",
      "I love Marist\n",
      "I love Marist\n"
     ]
    }
   ],
   "source": [
    "// Give me an example of you using a for loop\n",
    "\n",
    "for (int x = 0; x < 10; x++) {\n",
    "    System.out.println(\"I love Marist\");\n",
    "}"
   ]
  },
  {
   "cell_type": "code",
   "execution_count": 4,
   "metadata": {},
   "outputs": [
    {
     "name": "stdout",
     "output_type": "stream",
     "text": [
      "Cinderella\n",
      "Jasmine\n",
      "Ariel\n",
      "Snow White\n",
      "Sleeping Beauty\n"
     ]
    }
   ],
   "source": [
    "// Give me an example of you using a for each loop\n",
    "\n",
    "String[] princesses = {\"Cinderella\", \"Jasmine\", \"Ariel\", \"Snow White\", \"Sleeping Beauty\"};\n",
    "\n",
    "for (String disney: princesses) {\n",
    "    System.out.println(disney);\n",
    "}"
   ]
  },
  {
   "cell_type": "code",
   "execution_count": 9,
   "metadata": {},
   "outputs": [
    {
     "name": "stdout",
     "output_type": "stream",
     "text": [
      "This is fun\n"
     ]
    }
   ],
   "source": [
    "// Give me an example of you using a while loop\n",
    "\n",
    "boolean is_looping = true;\n",
    "\n",
    "while (is_looping) {\n",
    "    System.out.println(\"This is fun\");\n",
    "    is_looping = !is_looping;\n",
    "}"
   ]
  },
  {
   "cell_type": "code",
   "execution_count": 10,
   "metadata": {},
   "outputs": [
    {
     "name": "stdout",
     "output_type": "stream",
     "text": [
      "16.0\n"
     ]
    }
   ],
   "source": [
    "// I want you to write a function that will take in a number and raise it to the power given. \n",
    "\n",
    "// For example if given the numbers 2 and 3. The math that the function should do is 2^3 and should print out or return 8. Print the output.\n",
    "\n",
    "double power (int base, int exponent) {\n",
    "     return Math.pow(base,exponent);\n",
    "}\n",
    "\n",
    "System.out.println(power(4,2));"
   ]
  },
  {
   "cell_type": "code",
   "execution_count": 25,
   "metadata": {},
   "outputs": [
    {
     "name": "stdout",
     "output_type": "stream",
     "text": [
      "There are 4 4's in the given array\n"
     ]
    }
   ],
   "source": [
    "// I want you to write a function that will take in a list and see how many times a given number is in the list. \n",
    "\n",
    "// For example if the array given is [2,3,5,2,3,6,7,8,2] and the number given is 2 the function should print out or return 3. Print the output.\n",
    "\n",
    "void number_counter(int[] array, int target){\n",
    "    if (array.length == 0) {\n",
    "        System.out.println(\"The array is empty.\");\n",
    "        return;\n",
    "    }\n",
    "    \n",
    "    int counter = 0;\n",
    "    for (int number: array) {\n",
    "        if (target == number) {\n",
    "            counter++;\n",
    "        }\n",
    "    }\n",
    "    System.out.println(\"There are \" + counter + \" \" + target + \"'s in the given array\");\n",
    "}\n",
    "\n",
    "int[] array = {2,4,5,3,7,8,4,6,4,4,2,6};\n",
    "number_counter(array, 4);"
   ]
  },
  {
   "cell_type": "code",
   "execution_count": 31,
   "metadata": {},
   "outputs": [
    {
     "name": "stdout",
     "output_type": "stream",
     "text": [
      "c comes out to be 14.422205101855956 and c squared was 208.0.\n"
     ]
    }
   ],
   "source": [
    "// Give me a function that gives the answer to the pythagorean theorem. \n",
    "// I'd like you to reuse the exponent function from above as well as the functions below to make your function.\n",
    "\n",
    "// If you don't remember the pythagorean theorem the formula is (a^2 + b^2 = c^2). Given a and b as parameters i'd like you to return c. \n",
    "// If this doesn't make sense look up `Pythagorean Theorem Formula` on google.\n",
    "\n",
    "double addition(double a, double b) {\n",
    "    double answer = a + b;\n",
    "    return answer;\n",
    "}\n",
    "\n",
    "double division(int a, int b) {\n",
    "    int answer = a / b;\n",
    "    return answer;\n",
    "}\n",
    "\n",
    "void pythagorean_theorem(int a, int b) {\n",
    "    double a_squared = power(a, 2);\n",
    "    double b_squared = power(b, 2);\n",
    "    double c_squared = addition(a_squared, b_squared);\n",
    "    double c = Math.sqrt(c_squared);\n",
    "    \n",
    "    System.out.println(\"c comes out to be \" + c + \" and c squared was \" + c_squared + \".\");\n",
    "}\n",
    "\n",
    "pythagorean_theorem(8,12);\n"
   ]
  }
 ],
 "metadata": {
  "kernelspec": {
   "display_name": "Java",
   "language": "java",
   "name": "java"
  },
  "language_info": {
   "codemirror_mode": {
    "name": "ipython",
    "version": 3
   },
   "file_extension": ".py",
   "mimetype": "text/x-python",
   "name": "python",
   "nbconvert_exporter": "python",
   "pygments_lexer": "ipython3",
   "version": "3.8.5-final"
  },
  "orig_nbformat": 2
 },
 "nbformat": 4,
 "nbformat_minor": 2
}