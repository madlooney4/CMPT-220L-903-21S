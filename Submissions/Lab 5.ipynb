{
 "cells": [
  {
   "cell_type": "markdown",
   "metadata": {},
   "source": [
    "# Lab Five\n",
    "---\n",
    "\n",
    "For this lab we're going to be messing around with our Linear Data Types!\n",
    "\n",
    "Our Goals are:\n",
    "- Creating an Array\n",
    "- Creating an ArrayList\n",
    "- Creating an LinkedList\n",
    "- Creating an Queue\n",
    "- Creating an Stack \n",
    "\n",
    "Please show the ability to:\n",
    "- Create these data types\n",
    "- Populate the data types\n",
    "- Print out the Linear Data Types"
   ]
  },
  {
   "cell_type": "code",
   "execution_count": 7,
   "metadata": {},
   "outputs": [
    {
     "name": "stdout",
     "output_type": "stream",
     "text": [
      "[Dog, Cat, Fox, Turtle, Bear, Pig]\n"
     ]
    }
   ],
   "source": [
    "// Create an Array, Populate it, and Print it out\n",
    "\n",
    "String[] animals = {\"Dog\", \"Cat\", \"Fox\", \"Turtle\", \"Bear\", \"Pig\"};\n",
    "System.out.println(Arrays.toString(animals));"
   ]
  },
  {
   "cell_type": "code",
   "execution_count": 9,
   "metadata": {},
   "outputs": [
    {
     "name": "stdout",
     "output_type": "stream",
     "text": [
      "[Dog, Cat, Fox, Turtle, Bear, Pig]\n"
     ]
    }
   ],
   "source": [
    "// Create an ArrayList, Populate it, and Print it out\n",
    "\n",
    "ArrayList<String> animals = new ArrayList<String>();\n",
    "animals.add(\"Dog\");\n",
    "animals.add(\"Cat\");\n",
    "animals.add(\"Fox\");\n",
    "animals.add(\"Turtle\");\n",
    "animals.add(\"Bear\");\n",
    "animals.add(\"Pig\");\n",
    "\n",
    "System.out.println(animals);"
   ]
  },
  {
   "cell_type": "code",
   "execution_count": 10,
   "metadata": {},
   "outputs": [
    {
     "name": "stdout",
     "output_type": "stream",
     "text": [
      "[Dog, Cat, Fox, Turtle, Bear, Pig]\n"
     ]
    }
   ],
   "source": [
    "// Create an LinkedList, Populate it, and Print it out\n",
    "\n",
    "LinkedList<String> animals = new LinkedList<String>();\n",
    "animals.add(\"Dog\");\n",
    "animals.add(\"Cat\");\n",
    "animals.add(\"Fox\");\n",
    "animals.add(\"Turtle\");\n",
    "animals.add(\"Bear\");\n",
    "animals.add(\"Pig\");\n",
    "\n",
    "System.out.println(animals);"
   ]
  },
  {
   "cell_type": "code",
   "execution_count": 11,
   "metadata": {},
   "outputs": [
    {
     "name": "stdout",
     "output_type": "stream",
     "text": [
      "[Bear, Cat, Fox, Turtle, Dog, Pig]\n"
     ]
    }
   ],
   "source": [
    "// Create an Queue, Populate it, and Print it out\n",
    "\n",
    "Queue<String> animals = new PriorityQueue<String>();\n",
    "animals.add(\"Dog\");\n",
    "animals.add(\"Cat\");\n",
    "animals.add(\"Fox\");\n",
    "animals.add(\"Turtle\");\n",
    "animals.add(\"Bear\");\n",
    "animals.add(\"Pig\");\n",
    "\n",
    "System.out.println(animals);"
   ]
  },
  {
   "cell_type": "code",
   "execution_count": 12,
   "metadata": {},
   "outputs": [
    {
     "name": "stdout",
     "output_type": "stream",
     "text": [
      "[Dog, Cat, Fox, Turtle, Bear, Pig]\n"
     ]
    }
   ],
   "source": [
    "// Create an Stack, Populate it, and Print it out\n",
    "\n",
    "Stack<String> animals = new Stack<String>();\n",
    "animals.push(\"Dog\");\n",
    "animals.push(\"Cat\");\n",
    "animals.push(\"Fox\");\n",
    "animals.push(\"Turtle\");\n",
    "animals.push(\"Bear\");\n",
    "animals.push(\"Pig\");\n",
    "\n",
    "System.out.println(animals);"
   ]
  }
 ],
 "metadata": {
  "kernelspec": {
   "display_name": "Java",
   "language": "java",
   "name": "java"
  },
  "language_info": {
   "codemirror_mode": "java",
   "file_extension": ".jshell",
   "mimetype": "text/x-java-source",
   "name": "Java",
   "pygments_lexer": "java",
   "version": "15.0.2+7-27"
  },
  "orig_nbformat": 2
 },
 "nbformat": 4,
 "nbformat_minor": 2
}