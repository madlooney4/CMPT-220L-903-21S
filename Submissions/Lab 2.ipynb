{
 "cells": [
  {
   "cell_type": "markdown",
   "metadata": {},
   "source": [
    "# Lab Two\n",
    "---\n",
    "\n",
    "Ok for this lab we're going to reiterate a lot of the things that we went over in class.\n",
    "\n",
    "Our Goals are:\n",
    "- Conditionals\n",
    "    - If\n",
    "    - Else\n",
    "    - Else If"
   ]
  },
  {
   "cell_type": "code",
   "execution_count": null,
   "metadata": {},
   "outputs": [],
   "source": [
    "// Make an if statement\n",
    "if (true) {\n",
    "    System.out.println(\"If: This is an if statement\");\n",
    "}"
   ]
  },
  {
   "cell_type": "code",
   "execution_count": null,
   "metadata": {},
   "outputs": [],
   "source": [
    "// Make an if, else statement where the else statement triggers\n",
    "if (false) {\n",
    "    System.out.println(\"If: This is an if statement\");\n",
    "} else {\n",
    "    System.out.println(\"Else: This is an else statement\");\n",
    "}"
   ]
  },
  {
   "cell_type": "code",
   "execution_count": null,
   "metadata": {},
   "outputs": [],
   "source": [
    "// Make an if, else if, else statement where the else if statement triggers\n",
    "if (false) {\n",
    "    System.out.println(\"If: This is an if statement\");\n",
    "} else if (true) {\n",
    "    System.out.println(\"Else If: This is an else if statement\");\n",
    "} else {\n",
    "    System.out.println(\"Else: This is an else statement\");\n",
    "}"
   ]
  },
  {
   "cell_type": "code",
   "execution_count": null,
   "metadata": {},
   "outputs": [],
   "source": [
    "// Make 2 variables and use them in an if else conditional\n",
    "int a = 4;\n",
    "int b = 6;\n",
    "\n",
    "if (a == b) {\n",
    "    System.out.println(\"If: This is an if statement\");\n",
    "} else {\n",
    "    System.out.println(\"Else: This is an else statement\");\n",
    "}"
   ]
  },
  {
   "cell_type": "code",
   "execution_count": null,
   "metadata": {},
   "outputs": [],
   "source": [
    "// Make an if statement using 2 variables and an AND(&&) statement\n",
    "int a = 10;\n",
    "int b = 20;\n",
    "\n",
    "if (a < b && a == 10) {\n",
    "    System.out.println(\"If: This is an if with an and operator statement\");\n",
    "} else {\n",
    "    System.out.println(\"Else: This is an else statement\");"
   ]
  },
  {
   "cell_type": "code",
   "execution_count": null,
   "metadata": {},
   "outputs": [],
   "source": [
    "// Make an if statement using 2 variables and an OR(||) statement\n",
    "int a = 10;\n",
    "int b = 20;\n",
    "\n",
    "if (a > b || b == 20) {\n",
    "    System.out.println(\"If: This is an if with an or operator statement\");\n",
    "} else {\n",
    "    System.out.println(\"Else: This is an else statement\");\n",
    "}"
   ]
  }
 ],
 "metadata": {
  "kernelspec": {
   "display_name": "Java",
   "name": "java"
  },
  "language_info": {
   "name": "java"
  },
  "orig_nbformat": 2
 },
 "nbformat": 4,
 "nbformat_minor": 2
}