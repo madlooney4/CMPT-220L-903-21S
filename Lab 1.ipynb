{
 "cells": [
  {
   "cell_type": "markdown",
   "metadata": {},
   "source": [
    "# Lab One\n",
    "---\n",
    "\n",
    "Ok for this lab we're going to reiterate a lot of the things that we went over in class.\n",
    "\n",
    "Our Goals are:\n",
    "- Binary Math\n",
    "- Defining Variables\n",
    "    - Primitive Types\n",
    "    - Reference Types\n",
    "- Using Math\n",
    "- Manipulating Variables"
   ]
  },
  {
   "cell_type": "markdown",
   "metadata": {},
   "source": [
    "For this section I just want you to type the answer. I know that you can just look this up but try and do the math. \n",
    "### What is 1000 in Decimal\n",
    "8\n",
    "### What is 1000 1001 in Decimal (This is a byte. It's just split for readability)\n",
    "137\n",
    "### What is 1010 1111 in Decimal (This is a byte. It's just split for readability)\n",
    "175\n",
    "### What is 0101 1010 in Decimal (This is a byte. It's just split for readability)\n",
    "90"
   ]
  },
  {
   "cell_type": "code",
   "execution_count": null,
   "metadata": {},
   "outputs": [],
   "source": [
    "// Define 8 variables, one of each type listed: [boolean, byte, short, int, long, float, double, char]. Print all 8 of them.\n",
    "boolean is_jelly = true\n",
    "byte example_byte = 127\n",
    "    0111 1111 = 127\n",
    "short example_short = 32767\n",
    "    0111 1111 1111 1111 = 32,767\n",
    "int example_int = 2147483647\n",
    "    0111 1111 1111 1111 1111 1111 1111 1111 = 2,147,483,647\n",
    "long example_long = 9.223372036854775e18\n",
    "    0111 1111 1111 1111 1111 1111 1111 1111 1111 1111 1111 1111 1111 1111 1111 1111 = 9.223372036854775e18\n",
    "float example_float = 0.134234\n",
    "double example_double = 0.134346\n",
    "char example_char = 'm'"
   ]
  },
  {
   "cell_type": "code",
   "execution_count": null,
   "metadata": {},
   "outputs": [],
   "source": [
    "// Make me a list of any type\n",
    "fruits = [apple, banana, lemon, orange, lime, avacado, grape]"
   ]
  },
  {
   "cell_type": "code",
   "execution_count": null,
   "metadata": {},
   "outputs": [],
   "source": [
    "// With whatever variables you'd like demonstrate the following: [Addition, Subtraction, Division, Multiplication, Modulo]. Print all 5.\n",
    "sum = a + b\n",
    "subtraction = a - b\n",
    "division = a / b\n",
    "multiplication = a * b\n",
    "modulus = a % b"
   ]
  },
  {
   "cell_type": "code",
   "execution_count": null,
   "metadata": {},
   "outputs": [],
   "source": [
    "// Using 2 variables and addition print the number 57\n",
    "a = 30\n",
    "b = 27\n",
    "\n",
    "sum = a + b\n",
    "print(sum)"
   ]
  },
  {
   "cell_type": "code",
   "execution_count": null,
   "metadata": {},
   "outputs": [],
   "source": [
    "// Define a variable and print it out. Then alter the same variable and print it out. This can be through string concatenation or addition, etc.\n",
    "a = 50\n",
    "print(a)\n",
    "\n",
    "subtraction = a - int(10)\n",
    "print(subtraction)"
   ]
  }
 ],
 "metadata": {
  "kernelspec": {
   "display_name": "Java",
   "language": "java",
   "name": "java"
  },
  "language_info": {
   "codemirror_mode": {
    "name": "ipython",
    "version": 3
   },
   "file_extension": ".py",
   "mimetype": "text/x-python",
   "name": "python",
   "nbconvert_exporter": "python",
   "pygments_lexer": "ipython3",
   "version": "3.8.5-final"
  },
  "orig_nbformat": 2
 },
 "nbformat": 4,
 "nbformat_minor": 2
}